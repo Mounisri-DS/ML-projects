{
 "cells": [
  {
   "cell_type": "code",
   "execution_count": 1,
   "metadata": {},
   "outputs": [],
   "source": [
    "import pandas as pd\n",
    "import numpy as np\n",
    "import matplotlib.pyplot as plt\n",
    "import seaborn as sns\n",
    "from sklearn.linear_model import LinearRegression\n",
    "from sklearn.model_selection import train_test_split"
   ]
  },
  {
   "cell_type": "code",
   "execution_count": 2,
   "metadata": {},
   "outputs": [],
   "source": [
    "ds=pd.read_csv('concrete_data.csv')"
   ]
  },
  {
   "cell_type": "code",
   "execution_count": 3,
   "metadata": {},
   "outputs": [
    {
     "data": {
      "text/html": [
       "<div>\n",
       "<style scoped>\n",
       "    .dataframe tbody tr th:only-of-type {\n",
       "        vertical-align: middle;\n",
       "    }\n",
       "\n",
       "    .dataframe tbody tr th {\n",
       "        vertical-align: top;\n",
       "    }\n",
       "\n",
       "    .dataframe thead th {\n",
       "        text-align: right;\n",
       "    }\n",
       "</style>\n",
       "<table border=\"1\" class=\"dataframe\">\n",
       "  <thead>\n",
       "    <tr style=\"text-align: right;\">\n",
       "      <th></th>\n",
       "      <th>Cement</th>\n",
       "      <th>Blast</th>\n",
       "      <th>Fly Ash</th>\n",
       "      <th>Water</th>\n",
       "      <th>Superplasticizer</th>\n",
       "      <th>CA</th>\n",
       "      <th>FA</th>\n",
       "      <th>Age</th>\n",
       "      <th>CMS</th>\n",
       "    </tr>\n",
       "  </thead>\n",
       "  <tbody>\n",
       "    <tr>\n",
       "      <th>0</th>\n",
       "      <td>540.0</td>\n",
       "      <td>0.0</td>\n",
       "      <td>0.0</td>\n",
       "      <td>162.0</td>\n",
       "      <td>2.5</td>\n",
       "      <td>1040.0</td>\n",
       "      <td>676.0</td>\n",
       "      <td>28</td>\n",
       "      <td>79.99</td>\n",
       "    </tr>\n",
       "    <tr>\n",
       "      <th>1</th>\n",
       "      <td>540.0</td>\n",
       "      <td>0.0</td>\n",
       "      <td>0.0</td>\n",
       "      <td>162.0</td>\n",
       "      <td>2.5</td>\n",
       "      <td>1055.0</td>\n",
       "      <td>676.0</td>\n",
       "      <td>28</td>\n",
       "      <td>61.89</td>\n",
       "    </tr>\n",
       "    <tr>\n",
       "      <th>2</th>\n",
       "      <td>332.5</td>\n",
       "      <td>142.5</td>\n",
       "      <td>0.0</td>\n",
       "      <td>228.0</td>\n",
       "      <td>0.0</td>\n",
       "      <td>932.0</td>\n",
       "      <td>594.0</td>\n",
       "      <td>270</td>\n",
       "      <td>40.27</td>\n",
       "    </tr>\n",
       "    <tr>\n",
       "      <th>3</th>\n",
       "      <td>332.5</td>\n",
       "      <td>142.5</td>\n",
       "      <td>0.0</td>\n",
       "      <td>228.0</td>\n",
       "      <td>0.0</td>\n",
       "      <td>932.0</td>\n",
       "      <td>594.0</td>\n",
       "      <td>365</td>\n",
       "      <td>41.05</td>\n",
       "    </tr>\n",
       "    <tr>\n",
       "      <th>4</th>\n",
       "      <td>198.6</td>\n",
       "      <td>132.4</td>\n",
       "      <td>0.0</td>\n",
       "      <td>192.0</td>\n",
       "      <td>0.0</td>\n",
       "      <td>978.4</td>\n",
       "      <td>825.5</td>\n",
       "      <td>360</td>\n",
       "      <td>44.30</td>\n",
       "    </tr>\n",
       "    <tr>\n",
       "      <th>...</th>\n",
       "      <td>...</td>\n",
       "      <td>...</td>\n",
       "      <td>...</td>\n",
       "      <td>...</td>\n",
       "      <td>...</td>\n",
       "      <td>...</td>\n",
       "      <td>...</td>\n",
       "      <td>...</td>\n",
       "      <td>...</td>\n",
       "    </tr>\n",
       "    <tr>\n",
       "      <th>1025</th>\n",
       "      <td>276.4</td>\n",
       "      <td>116.0</td>\n",
       "      <td>90.3</td>\n",
       "      <td>179.6</td>\n",
       "      <td>8.9</td>\n",
       "      <td>870.1</td>\n",
       "      <td>768.3</td>\n",
       "      <td>28</td>\n",
       "      <td>44.28</td>\n",
       "    </tr>\n",
       "    <tr>\n",
       "      <th>1026</th>\n",
       "      <td>322.2</td>\n",
       "      <td>0.0</td>\n",
       "      <td>115.6</td>\n",
       "      <td>196.0</td>\n",
       "      <td>10.4</td>\n",
       "      <td>817.9</td>\n",
       "      <td>813.4</td>\n",
       "      <td>28</td>\n",
       "      <td>31.18</td>\n",
       "    </tr>\n",
       "    <tr>\n",
       "      <th>1027</th>\n",
       "      <td>148.5</td>\n",
       "      <td>139.4</td>\n",
       "      <td>108.6</td>\n",
       "      <td>192.7</td>\n",
       "      <td>6.1</td>\n",
       "      <td>892.4</td>\n",
       "      <td>780.0</td>\n",
       "      <td>28</td>\n",
       "      <td>23.70</td>\n",
       "    </tr>\n",
       "    <tr>\n",
       "      <th>1028</th>\n",
       "      <td>159.1</td>\n",
       "      <td>186.7</td>\n",
       "      <td>0.0</td>\n",
       "      <td>175.6</td>\n",
       "      <td>11.3</td>\n",
       "      <td>989.6</td>\n",
       "      <td>788.9</td>\n",
       "      <td>28</td>\n",
       "      <td>32.77</td>\n",
       "    </tr>\n",
       "    <tr>\n",
       "      <th>1029</th>\n",
       "      <td>260.9</td>\n",
       "      <td>100.5</td>\n",
       "      <td>78.3</td>\n",
       "      <td>200.6</td>\n",
       "      <td>8.6</td>\n",
       "      <td>864.5</td>\n",
       "      <td>761.5</td>\n",
       "      <td>28</td>\n",
       "      <td>32.40</td>\n",
       "    </tr>\n",
       "  </tbody>\n",
       "</table>\n",
       "<p>1030 rows × 9 columns</p>\n",
       "</div>"
      ],
      "text/plain": [
       "      Cement  Blast  Fly Ash  Water  Superplasticizer      CA     FA  Age  \\\n",
       "0      540.0    0.0      0.0  162.0               2.5  1040.0  676.0   28   \n",
       "1      540.0    0.0      0.0  162.0               2.5  1055.0  676.0   28   \n",
       "2      332.5  142.5      0.0  228.0               0.0   932.0  594.0  270   \n",
       "3      332.5  142.5      0.0  228.0               0.0   932.0  594.0  365   \n",
       "4      198.6  132.4      0.0  192.0               0.0   978.4  825.5  360   \n",
       "...      ...    ...      ...    ...               ...     ...    ...  ...   \n",
       "1025   276.4  116.0     90.3  179.6               8.9   870.1  768.3   28   \n",
       "1026   322.2    0.0    115.6  196.0              10.4   817.9  813.4   28   \n",
       "1027   148.5  139.4    108.6  192.7               6.1   892.4  780.0   28   \n",
       "1028   159.1  186.7      0.0  175.6              11.3   989.6  788.9   28   \n",
       "1029   260.9  100.5     78.3  200.6               8.6   864.5  761.5   28   \n",
       "\n",
       "        CMS  \n",
       "0     79.99  \n",
       "1     61.89  \n",
       "2     40.27  \n",
       "3     41.05  \n",
       "4     44.30  \n",
       "...     ...  \n",
       "1025  44.28  \n",
       "1026  31.18  \n",
       "1027  23.70  \n",
       "1028  32.77  \n",
       "1029  32.40  \n",
       "\n",
       "[1030 rows x 9 columns]"
      ]
     },
     "execution_count": 3,
     "metadata": {},
     "output_type": "execute_result"
    }
   ],
   "source": [
    "data=pd.DataFrame(data=ds)\n",
    "data"
   ]
  },
  {
   "cell_type": "code",
   "execution_count": 4,
   "metadata": {},
   "outputs": [
    {
     "data": {
      "text/plain": [
       "(1030, 9)"
      ]
     },
     "execution_count": 4,
     "metadata": {},
     "output_type": "execute_result"
    }
   ],
   "source": [
    "data.shape"
   ]
  },
  {
   "cell_type": "code",
   "execution_count": 5,
   "metadata": {},
   "outputs": [
    {
     "data": {
      "text/plain": [
       "Index(['Cement', 'Blast', 'Fly Ash', 'Water', 'Superplasticizer', 'CA', 'FA',\n",
       "       'Age', 'CMS'],\n",
       "      dtype='object')"
      ]
     },
     "execution_count": 5,
     "metadata": {},
     "output_type": "execute_result"
    }
   ],
   "source": [
    "data.columns"
   ]
  },
  {
   "cell_type": "code",
   "execution_count": 6,
   "metadata": {},
   "outputs": [
    {
     "data": {
      "text/html": [
       "<div>\n",
       "<style scoped>\n",
       "    .dataframe tbody tr th:only-of-type {\n",
       "        vertical-align: middle;\n",
       "    }\n",
       "\n",
       "    .dataframe tbody tr th {\n",
       "        vertical-align: top;\n",
       "    }\n",
       "\n",
       "    .dataframe thead th {\n",
       "        text-align: right;\n",
       "    }\n",
       "</style>\n",
       "<table border=\"1\" class=\"dataframe\">\n",
       "  <thead>\n",
       "    <tr style=\"text-align: right;\">\n",
       "      <th></th>\n",
       "      <th>Cement</th>\n",
       "      <th>Blast</th>\n",
       "      <th>Fly Ash</th>\n",
       "      <th>Water</th>\n",
       "      <th>Superplasticizer</th>\n",
       "      <th>CA</th>\n",
       "      <th>FA</th>\n",
       "      <th>Age</th>\n",
       "      <th>CMS</th>\n",
       "    </tr>\n",
       "  </thead>\n",
       "  <tbody>\n",
       "    <tr>\n",
       "      <th>count</th>\n",
       "      <td>1030.000000</td>\n",
       "      <td>1030.000000</td>\n",
       "      <td>1030.000000</td>\n",
       "      <td>1030.000000</td>\n",
       "      <td>1030.000000</td>\n",
       "      <td>1030.000000</td>\n",
       "      <td>1030.000000</td>\n",
       "      <td>1030.000000</td>\n",
       "      <td>1030.000000</td>\n",
       "    </tr>\n",
       "    <tr>\n",
       "      <th>mean</th>\n",
       "      <td>281.167864</td>\n",
       "      <td>73.895825</td>\n",
       "      <td>54.188350</td>\n",
       "      <td>181.567282</td>\n",
       "      <td>6.204660</td>\n",
       "      <td>972.918932</td>\n",
       "      <td>773.580485</td>\n",
       "      <td>45.662136</td>\n",
       "      <td>35.817961</td>\n",
       "    </tr>\n",
       "    <tr>\n",
       "      <th>std</th>\n",
       "      <td>104.506364</td>\n",
       "      <td>86.279342</td>\n",
       "      <td>63.997004</td>\n",
       "      <td>21.354219</td>\n",
       "      <td>5.973841</td>\n",
       "      <td>77.753954</td>\n",
       "      <td>80.175980</td>\n",
       "      <td>63.169912</td>\n",
       "      <td>16.705742</td>\n",
       "    </tr>\n",
       "    <tr>\n",
       "      <th>min</th>\n",
       "      <td>102.000000</td>\n",
       "      <td>0.000000</td>\n",
       "      <td>0.000000</td>\n",
       "      <td>121.800000</td>\n",
       "      <td>0.000000</td>\n",
       "      <td>801.000000</td>\n",
       "      <td>594.000000</td>\n",
       "      <td>1.000000</td>\n",
       "      <td>2.330000</td>\n",
       "    </tr>\n",
       "    <tr>\n",
       "      <th>25%</th>\n",
       "      <td>192.375000</td>\n",
       "      <td>0.000000</td>\n",
       "      <td>0.000000</td>\n",
       "      <td>164.900000</td>\n",
       "      <td>0.000000</td>\n",
       "      <td>932.000000</td>\n",
       "      <td>730.950000</td>\n",
       "      <td>7.000000</td>\n",
       "      <td>23.710000</td>\n",
       "    </tr>\n",
       "    <tr>\n",
       "      <th>50%</th>\n",
       "      <td>272.900000</td>\n",
       "      <td>22.000000</td>\n",
       "      <td>0.000000</td>\n",
       "      <td>185.000000</td>\n",
       "      <td>6.400000</td>\n",
       "      <td>968.000000</td>\n",
       "      <td>779.500000</td>\n",
       "      <td>28.000000</td>\n",
       "      <td>34.445000</td>\n",
       "    </tr>\n",
       "    <tr>\n",
       "      <th>75%</th>\n",
       "      <td>350.000000</td>\n",
       "      <td>142.950000</td>\n",
       "      <td>118.300000</td>\n",
       "      <td>192.000000</td>\n",
       "      <td>10.200000</td>\n",
       "      <td>1029.400000</td>\n",
       "      <td>824.000000</td>\n",
       "      <td>56.000000</td>\n",
       "      <td>46.135000</td>\n",
       "    </tr>\n",
       "    <tr>\n",
       "      <th>max</th>\n",
       "      <td>540.000000</td>\n",
       "      <td>359.400000</td>\n",
       "      <td>200.100000</td>\n",
       "      <td>247.000000</td>\n",
       "      <td>32.200000</td>\n",
       "      <td>1145.000000</td>\n",
       "      <td>992.600000</td>\n",
       "      <td>365.000000</td>\n",
       "      <td>82.600000</td>\n",
       "    </tr>\n",
       "  </tbody>\n",
       "</table>\n",
       "</div>"
      ],
      "text/plain": [
       "            Cement        Blast      Fly Ash        Water  Superplasticizer  \\\n",
       "count  1030.000000  1030.000000  1030.000000  1030.000000       1030.000000   \n",
       "mean    281.167864    73.895825    54.188350   181.567282          6.204660   \n",
       "std     104.506364    86.279342    63.997004    21.354219          5.973841   \n",
       "min     102.000000     0.000000     0.000000   121.800000          0.000000   \n",
       "25%     192.375000     0.000000     0.000000   164.900000          0.000000   \n",
       "50%     272.900000    22.000000     0.000000   185.000000          6.400000   \n",
       "75%     350.000000   142.950000   118.300000   192.000000         10.200000   \n",
       "max     540.000000   359.400000   200.100000   247.000000         32.200000   \n",
       "\n",
       "                CA           FA          Age          CMS  \n",
       "count  1030.000000  1030.000000  1030.000000  1030.000000  \n",
       "mean    972.918932   773.580485    45.662136    35.817961  \n",
       "std      77.753954    80.175980    63.169912    16.705742  \n",
       "min     801.000000   594.000000     1.000000     2.330000  \n",
       "25%     932.000000   730.950000     7.000000    23.710000  \n",
       "50%     968.000000   779.500000    28.000000    34.445000  \n",
       "75%    1029.400000   824.000000    56.000000    46.135000  \n",
       "max    1145.000000   992.600000   365.000000    82.600000  "
      ]
     },
     "execution_count": 6,
     "metadata": {},
     "output_type": "execute_result"
    }
   ],
   "source": [
    "data.describe()"
   ]
  },
  {
   "cell_type": "code",
   "execution_count": 7,
   "metadata": {},
   "outputs": [
    {
     "data": {
      "text/plain": [
       "<AxesSubplot:>"
      ]
     },
     "execution_count": 7,
     "metadata": {},
     "output_type": "execute_result"
    },
    {
     "data": {
      "image/png": "[encoded data removed]",
      "text/plain": [
       "<Figure size 432x288 with 1 Axes>"
      ]
     },
     "metadata": {
      "needs_background": "light"
     },
     "output_type": "display_data"
    }
   ],
   "source": [
    "data['Age'].plot.box()"
   ]
  },
  {
   "cell_type": "code",
   "execution_count": 8,
   "metadata": {},
   "outputs": [
    {
     "data": {
      "text/plain": [
       "Cement                 AxesSubplot(0.125,0.536818;0.133621x0.343182)\n",
       "Blast               AxesSubplot(0.285345,0.536818;0.133621x0.343182)\n",
       "Fly Ash              AxesSubplot(0.44569,0.536818;0.133621x0.343182)\n",
       "Water               AxesSubplot(0.606034,0.536818;0.133621x0.343182)\n",
       "Superplasticizer    AxesSubplot(0.766379,0.536818;0.133621x0.343182)\n",
       "CA                        AxesSubplot(0.125,0.125;0.133621x0.343182)\n",
       "FA                     AxesSubplot(0.285345,0.125;0.133621x0.343182)\n",
       "Age                     AxesSubplot(0.44569,0.125;0.133621x0.343182)\n",
       "CMS                    AxesSubplot(0.606034,0.125;0.133621x0.343182)\n",
       "dtype: object"
      ]
     },
     "execution_count": 8,
     "metadata": {},
     "output_type": "execute_result"
    },
    {
     "data": {
      "image/png": "[encoded data removed]",
      "text/plain": [
       "<Figure size 432x288 with 10 Axes>"
      ]
     },
     "metadata": {
      "needs_background": "light"
     },
     "output_type": "display_data"
    }
   ],
   "source": [
    "data.plot(kind='box',subplots=True,layout=(2,5))"
   ]
  },
  {
   "cell_type": "code",
   "execution_count": 9,
   "metadata": {},
   "outputs": [
    {
     "data": {
      "text/plain": [
       "<AxesSubplot:>"
      ]
     },
     "execution_count": 9,
     "metadata": {},
     "output_type": "execute_result"
    },
    {
     "data": {
      "image/png": "[encoded data removed]",
      "text/plain": [
       "<Figure size 432x288 with 2 Axes>"
      ]
     },
     "metadata": {
      "needs_background": "light"
     },
     "output_type": "display_data"
    }
   ],
   "source": [
    "sns.heatmap(data.isnull())"
   ]
  },
  {
   "cell_type": "code",
   "execution_count": 10,
   "metadata": {},
   "outputs": [
    {
     "data": {
      "text/plain": [
       "<AxesSubplot:>"
      ]
     },
     "execution_count": 10,
     "metadata": {},
     "output_type": "execute_result"
    },
    {
     "data": {
      "image/png": "[encoded data removed]",
      "text/plain": [
       "<Figure size 432x288 with 2 Axes>"
      ]
     },
     "metadata": {
      "needs_background": "light"
     },
     "output_type": "display_data"
    }
   ],
   "source": [
    "sns.heatmap(data.corr(),annot=True)"
   ]
  },
  {
   "cell_type": "code",
   "execution_count": 11,
   "metadata": {},
   "outputs": [
    {
     "data": {
      "text/plain": [
       "<AxesSubplot:ylabel='Frequency'>"
      ]
     },
     "execution_count": 11,
     "metadata": {},
     "output_type": "execute_result"
    },
    {
     "data": {
      "image/png": "[encoded data removed]",
      "text/plain": [
       "<Figure size 432x288 with 1 Axes>"
      ]
     },
     "metadata": {
      "needs_background": "light"
     },
     "output_type": "display_data"
    }
   ],
   "source": [
    "data['Age'].plot.hist()"
   ]
  },
  {
   "cell_type": "code",
   "execution_count": 12,
   "metadata": {},
   "outputs": [],
   "source": [
    "data['Age']=np.log(data['Age'])"
   ]
  },
  {
   "cell_type": "code",
   "execution_count": 13,
   "metadata": {},
   "outputs": [
    {
     "data": {
      "text/plain": [
       "<AxesSubplot:ylabel='Frequency'>"
      ]
     },
     "execution_count": 13,
     "metadata": {},
     "output_type": "execute_result"
    },
    {
     "data": {
      "image/png": "[encoded data removed]",
      "text/plain": [
       "<Figure size 432x288 with 1 Axes>"
      ]
     },
     "metadata": {
      "needs_background": "light"
     },
     "output_type": "display_data"
    }
   ],
   "source": [
    "data['Age'].plot.hist()"
   ]
  },
  {
   "cell_type": "code",
   "execution_count": 40,
   "metadata": {},
   "outputs": [
    {
     "data": {
      "text/plain": [
       "Cement              0.509481\n",
       "Blast               0.800717\n",
       "Fly Ash             0.537354\n",
       "Water               0.074628\n",
       "Superplasticizer    0.907203\n",
       "CA                 -0.040220\n",
       "FA                 -0.253010\n",
       "Age                -0.151351\n",
       "CMS                 0.416977\n",
       "dtype: float64"
      ]
     },
     "execution_count": 40,
     "metadata": {},
     "output_type": "execute_result"
    }
   ],
   "source": [
    "data.skew()"
   ]
  },
  {
   "cell_type": "code",
   "execution_count": null,
   "metadata": {},
   "outputs": [],
   "source": []
  },
  {
   "cell_type": "code",
   "execution_count": null,
   "metadata": {},
   "outputs": [],
   "source": []
  },
  {
   "cell_type": "code",
   "execution_count": 14,
   "metadata": {},
   "outputs": [
    {
     "name": "stderr",
     "output_type": "stream",
     "text": [
      "C:\\ProgramData\\Anaconda3\\lib\\site-packages\\seaborn\\distributions.py:2551: FutureWarning: `distplot` is a deprecated function and will be removed in a future version. Please adapt your code to use either `displot` (a figure-level function with similar flexibility) or `histplot` (an axes-level function for histograms).\n",
      "  warnings.warn(msg, FutureWarning)\n",
      "C:\\ProgramData\\Anaconda3\\lib\\site-packages\\seaborn\\distributions.py:2551: FutureWarning: `distplot` is a deprecated function and will be removed in a future version. Please adapt your code to use either `displot` (a figure-level function with similar flexibility) or `histplot` (an axes-level function for histograms).\n",
      "  warnings.warn(msg, FutureWarning)\n",
      "C:\\ProgramData\\Anaconda3\\lib\\site-packages\\seaborn\\distributions.py:2551: FutureWarning: `distplot` is a deprecated function and will be removed in a future version. Please adapt your code to use either `displot` (a figure-level function with similar flexibility) or `histplot` (an axes-level function for histograms).\n",
      "  warnings.warn(msg, FutureWarning)\n",
      "C:\\ProgramData\\Anaconda3\\lib\\site-packages\\seaborn\\distributions.py:2551: FutureWarning: `distplot` is a deprecated function and will be removed in a future version. Please adapt your code to use either `displot` (a figure-level function with similar flexibility) or `histplot` (an axes-level function for histograms).\n",
      "  warnings.warn(msg, FutureWarning)\n",
      "C:\\ProgramData\\Anaconda3\\lib\\site-packages\\seaborn\\distributions.py:2551: FutureWarning: `distplot` is a deprecated function and will be removed in a future version. Please adapt your code to use either `displot` (a figure-level function with similar flexibility) or `histplot` (an axes-level function for histograms).\n",
      "  warnings.warn(msg, FutureWarning)\n",
      "C:\\ProgramData\\Anaconda3\\lib\\site-packages\\seaborn\\distributions.py:2551: FutureWarning: `distplot` is a deprecated function and will be removed in a future version. Please adapt your code to use either `displot` (a figure-level function with similar flexibility) or `histplot` (an axes-level function for histograms).\n",
      "  warnings.warn(msg, FutureWarning)\n",
      "C:\\ProgramData\\Anaconda3\\lib\\site-packages\\seaborn\\distributions.py:2551: FutureWarning: `distplot` is a deprecated function and will be removed in a future version. Please adapt your code to use either `displot` (a figure-level function with similar flexibility) or `histplot` (an axes-level function for histograms).\n",
      "  warnings.warn(msg, FutureWarning)\n",
      "C:\\ProgramData\\Anaconda3\\lib\\site-packages\\seaborn\\distributions.py:2551: FutureWarning: `distplot` is a deprecated function and will be removed in a future version. Please adapt your code to use either `displot` (a figure-level function with similar flexibility) or `histplot` (an axes-level function for histograms).\n",
      "  warnings.warn(msg, FutureWarning)\n",
      "C:\\ProgramData\\Anaconda3\\lib\\site-packages\\seaborn\\distributions.py:2551: FutureWarning: `distplot` is a deprecated function and will be removed in a future version. Please adapt your code to use either `displot` (a figure-level function with similar flexibility) or `histplot` (an axes-level function for histograms).\n",
      "  warnings.warn(msg, FutureWarning)\n",
      "C:\\ProgramData\\Anaconda3\\lib\\site-packages\\seaborn\\distributions.py:2551: FutureWarning: `distplot` is a deprecated function and will be removed in a future version. Please adapt your code to use either `displot` (a figure-level function with similar flexibility) or `histplot` (an axes-level function for histograms).\n",
      "  warnings.warn(msg, FutureWarning)\n"
     ]
    },
    {
     "data": {
      "image/png": "[encoded data removed]",
      "text/plain": [
       "<Figure size 432x288 with 1 Axes>"
      ]
     },
     "metadata": {
      "needs_background": "light"
     },
     "output_type": "display_data"
    },
    {
     "data": {
      "image/png": "[encoded data removed]",
      "text/plain": [
       "<Figure size 432x288 with 1 Axes>"
      ]
     },
     "metadata": {
      "needs_background": "light"
     },
     "output_type": "display_data"
    },
    {
     "data": {
      "image/png": "[encoded data removed]",
      "text/plain": [
       "<Figure size 432x288 with 1 Axes>"
      ]
     },
     "metadata": {
      "needs_background": "light"
     },
     "output_type": "display_data"
    },
    {
     "data": {
      "image/png": "[encoded data removed]",
      "text/plain": [
       "<Figure size 432x288 with 1 Axes>"
      ]
     },
     "metadata": {
      "needs_background": "light"
     },
     "output_type": "display_data"
    },
    {
     "data": {
      "image/png": "[encoded data removed]",
      "text/plain": [
       "<Figure size 432x288 with 1 Axes>"
      ]
     },
     "metadata": {
      "needs_background": "light"
     },
     "output_type": "display_data"
    },
    {
     "data": {
      "image/png": "[encoded data removed]",
      "text/plain": [
       "<Figure size 432x288 with 1 Axes>"
      ]
     },
     "metadata": {
      "needs_background": "light"
     },
     "output_type": "display_data"
    },
    {
     "data": {
      "image/png": "[encoded data removed]",
      "text/plain": [
       "<Figure size 432x288 with 1 Axes>"
      ]
     },
     "metadata": {
      "needs_background": "light"
     },
     "output_type": "display_data"
    },
    {
     "data": {
      "image/png": "[encoded data removed]",
      "text/plain": [
       "<Figure size 432x288 with 1 Axes>"
      ]
     },
     "metadata": {
      "needs_background": "light"
     },
     "output_type": "display_data"
    },
    {
     "data": {
      "image/png": "[encoded data removed]",
      "text/plain": [
       "<Figure size 432x288 with 1 Axes>"
      ]
     },
     "metadata": {
      "needs_background": "light"
     },
     "output_type": "display_data"
    },
    {
     "data": {
      "image/png": "[encoded data removed]",
      "text/plain": [
       "<Figure size 432x288 with 1 Axes>"
      ]
     },
     "metadata": {
      "needs_background": "light"
     },
     "output_type": "display_data"
    }
   ],
   "source": [
    "sns.distplot(data['Age'])\n",
    "for i in data.columns:\n",
    "    plt.figure()\n",
    "    sns.distplot(data[i])"
   ]
  },
  {
   "cell_type": "code",
   "execution_count": 15,
   "metadata": {},
   "outputs": [],
   "source": [
    "#handling missing values"
   ]
  },
  {
   "cell_type": "code",
   "execution_count": 16,
   "metadata": {},
   "outputs": [],
   "source": [
    "from sklearn.impute import SimpleImputer"
   ]
  },
  {
   "cell_type": "code",
   "execution_count": 17,
   "metadata": {},
   "outputs": [],
   "source": [
    "imp=SimpleImputer(missing_values=0,strategy='mean')\n",
    "imp=imp.fit(data)\n",
    "dst=imp.transform(data.values)"
   ]
  },
  {
   "cell_type": "code",
   "execution_count": 18,
   "metadata": {},
   "outputs": [
    {
     "data": {
      "text/html": [
       "<div>\n",
       "<style scoped>\n",
       "    .dataframe tbody tr th:only-of-type {\n",
       "        vertical-align: middle;\n",
       "    }\n",
       "\n",
       "    .dataframe tbody tr th {\n",
       "        vertical-align: top;\n",
       "    }\n",
       "\n",
       "    .dataframe thead th {\n",
       "        text-align: right;\n",
       "    }\n",
       "</style>\n",
       "<table border=\"1\" class=\"dataframe\">\n",
       "  <thead>\n",
       "    <tr style=\"text-align: right;\">\n",
       "      <th></th>\n",
       "      <th>0</th>\n",
       "      <th>1</th>\n",
       "      <th>2</th>\n",
       "      <th>3</th>\n",
       "      <th>4</th>\n",
       "      <th>5</th>\n",
       "      <th>6</th>\n",
       "      <th>7</th>\n",
       "      <th>8</th>\n",
       "    </tr>\n",
       "  </thead>\n",
       "  <tbody>\n",
       "    <tr>\n",
       "      <th>0</th>\n",
       "      <td>540.0</td>\n",
       "      <td>136.158676</td>\n",
       "      <td>120.288793</td>\n",
       "      <td>162.0</td>\n",
       "      <td>2.500000</td>\n",
       "      <td>1040.0</td>\n",
       "      <td>676.0</td>\n",
       "      <td>3.332205</td>\n",
       "      <td>79.99</td>\n",
       "    </tr>\n",
       "    <tr>\n",
       "      <th>1</th>\n",
       "      <td>540.0</td>\n",
       "      <td>136.158676</td>\n",
       "      <td>120.288793</td>\n",
       "      <td>162.0</td>\n",
       "      <td>2.500000</td>\n",
       "      <td>1055.0</td>\n",
       "      <td>676.0</td>\n",
       "      <td>3.332205</td>\n",
       "      <td>61.89</td>\n",
       "    </tr>\n",
       "    <tr>\n",
       "      <th>2</th>\n",
       "      <td>332.5</td>\n",
       "      <td>142.500000</td>\n",
       "      <td>120.288793</td>\n",
       "      <td>228.0</td>\n",
       "      <td>9.816897</td>\n",
       "      <td>932.0</td>\n",
       "      <td>594.0</td>\n",
       "      <td>5.598422</td>\n",
       "      <td>40.27</td>\n",
       "    </tr>\n",
       "    <tr>\n",
       "      <th>3</th>\n",
       "      <td>332.5</td>\n",
       "      <td>142.500000</td>\n",
       "      <td>120.288793</td>\n",
       "      <td>228.0</td>\n",
       "      <td>9.816897</td>\n",
       "      <td>932.0</td>\n",
       "      <td>594.0</td>\n",
       "      <td>5.899897</td>\n",
       "      <td>41.05</td>\n",
       "    </tr>\n",
       "    <tr>\n",
       "      <th>4</th>\n",
       "      <td>198.6</td>\n",
       "      <td>132.400000</td>\n",
       "      <td>120.288793</td>\n",
       "      <td>192.0</td>\n",
       "      <td>9.816897</td>\n",
       "      <td>978.4</td>\n",
       "      <td>825.5</td>\n",
       "      <td>5.886104</td>\n",
       "      <td>44.30</td>\n",
       "    </tr>\n",
       "    <tr>\n",
       "      <th>...</th>\n",
       "      <td>...</td>\n",
       "      <td>...</td>\n",
       "      <td>...</td>\n",
       "      <td>...</td>\n",
       "      <td>...</td>\n",
       "      <td>...</td>\n",
       "      <td>...</td>\n",
       "      <td>...</td>\n",
       "      <td>...</td>\n",
       "    </tr>\n",
       "    <tr>\n",
       "      <th>1025</th>\n",
       "      <td>276.4</td>\n",
       "      <td>116.000000</td>\n",
       "      <td>90.300000</td>\n",
       "      <td>179.6</td>\n",
       "      <td>8.900000</td>\n",
       "      <td>870.1</td>\n",
       "      <td>768.3</td>\n",
       "      <td>3.332205</td>\n",
       "      <td>44.28</td>\n",
       "    </tr>\n",
       "    <tr>\n",
       "      <th>1026</th>\n",
       "      <td>322.2</td>\n",
       "      <td>136.158676</td>\n",
       "      <td>115.600000</td>\n",
       "      <td>196.0</td>\n",
       "      <td>10.400000</td>\n",
       "      <td>817.9</td>\n",
       "      <td>813.4</td>\n",
       "      <td>3.332205</td>\n",
       "      <td>31.18</td>\n",
       "    </tr>\n",
       "    <tr>\n",
       "      <th>1027</th>\n",
       "      <td>148.5</td>\n",
       "      <td>139.400000</td>\n",
       "      <td>108.600000</td>\n",
       "      <td>192.7</td>\n",
       "      <td>6.100000</td>\n",
       "      <td>892.4</td>\n",
       "      <td>780.0</td>\n",
       "      <td>3.332205</td>\n",
       "      <td>23.70</td>\n",
       "    </tr>\n",
       "    <tr>\n",
       "      <th>1028</th>\n",
       "      <td>159.1</td>\n",
       "      <td>186.700000</td>\n",
       "      <td>120.288793</td>\n",
       "      <td>175.6</td>\n",
       "      <td>11.300000</td>\n",
       "      <td>989.6</td>\n",
       "      <td>788.9</td>\n",
       "      <td>3.332205</td>\n",
       "      <td>32.77</td>\n",
       "    </tr>\n",
       "    <tr>\n",
       "      <th>1029</th>\n",
       "      <td>260.9</td>\n",
       "      <td>100.500000</td>\n",
       "      <td>78.300000</td>\n",
       "      <td>200.6</td>\n",
       "      <td>8.600000</td>\n",
       "      <td>864.5</td>\n",
       "      <td>761.5</td>\n",
       "      <td>3.332205</td>\n",
       "      <td>32.40</td>\n",
       "    </tr>\n",
       "  </tbody>\n",
       "</table>\n",
       "<p>1030 rows × 9 columns</p>\n",
       "</div>"
      ],
      "text/plain": [
       "          0           1           2      3          4       5      6  \\\n",
       "0     540.0  136.158676  120.288793  162.0   2.500000  1040.0  676.0   \n",
       "1     540.0  136.158676  120.288793  162.0   2.500000  1055.0  676.0   \n",
       "2     332.5  142.500000  120.288793  228.0   9.816897   932.0  594.0   \n",
       "3     332.5  142.500000  120.288793  228.0   9.816897   932.0  594.0   \n",
       "4     198.6  132.400000  120.288793  192.0   9.816897   978.4  825.5   \n",
       "...     ...         ...         ...    ...        ...     ...    ...   \n",
       "1025  276.4  116.000000   90.300000  179.6   8.900000   870.1  768.3   \n",
       "1026  322.2  136.158676  115.600000  196.0  10.400000   817.9  813.4   \n",
       "1027  148.5  139.400000  108.600000  192.7   6.100000   892.4  780.0   \n",
       "1028  159.1  186.700000  120.288793  175.6  11.300000   989.6  788.9   \n",
       "1029  260.9  100.500000   78.300000  200.6   8.600000   864.5  761.5   \n",
       "\n",
       "             7      8  \n",
       "0     3.332205  79.99  \n",
       "1     3.332205  61.89  \n",
       "2     5.598422  40.27  \n",
       "3     5.899897  41.05  \n",
       "4     5.886104  44.30  \n",
       "...        ...    ...  \n",
       "1025  3.332205  44.28  \n",
       "1026  3.332205  31.18  \n",
       "1027  3.332205  23.70  \n",
       "1028  3.332205  32.77  \n",
       "1029  3.332205  32.40  \n",
       "\n",
       "[1030 rows x 9 columns]"
      ]
     },
     "execution_count": 18,
     "metadata": {},
     "output_type": "execute_result"
    }
   ],
   "source": [
    "dst=pd.DataFrame(dst)\n",
    "dst"
   ]
  },
  {
   "cell_type": "code",
   "execution_count": 41,
   "metadata": {},
   "outputs": [],
   "source": [
    "from scipy.stats import zscore"
   ]
  },
  {
   "cell_type": "code",
   "execution_count": 42,
   "metadata": {},
   "outputs": [
    {
     "name": "stdout",
     "output_type": "stream",
     "text": [
      "(array([  74,   76,   79,   90,   97,   99,  102,  113,  120,  122,  125,\n",
      "        136,  143,  145,  148,  159,  166,  168,  171,  181,  229,  230,\n",
      "        231,  232,  233,  234,  235,  236,  237,  238,  354,  355,  356,\n",
      "        357,  358,  391,  553,  559,  563,  571,  583,  584,  645,  698,\n",
      "        699,  720,  834,  859,  873,  890,  928,  929,  931,  933,  934,\n",
      "        936,  953,  991, 1016], dtype=int64), array([4, 4, 4, 4, 4, 4, 4, 4, 4, 4, 4, 4, 4, 4, 4, 4, 4, 4, 4, 4, 2, 2,\n",
      "       2, 2, 2, 2, 2, 2, 2, 2, 2, 2, 2, 2, 2, 4, 1, 1, 1, 1, 1, 1, 1, 1,\n",
      "       1, 1, 4, 2, 3, 2, 2, 2, 2, 2, 2, 3, 2, 4, 2], dtype=int64))\n"
     ]
    }
   ],
   "source": [
    "zscr=np.abs(zscore(dst))\n",
    "threshold=3\n",
    "print(np.where(zscr>3))"
   ]
  },
  {
   "cell_type": "code",
   "execution_count": 43,
   "metadata": {},
   "outputs": [
    {
     "data": {
      "text/plain": [
       "3.5349097378256293"
      ]
     },
     "execution_count": 43,
     "metadata": {},
     "output_type": "execute_result"
    }
   ],
   "source": [
    "zscr[1016][2]"
   ]
  },
  {
   "cell_type": "code",
   "execution_count": 45,
   "metadata": {},
   "outputs": [],
   "source": [
    "dstnew=dst[(zscr<3).all(axis=1)]"
   ]
  },
  {
   "cell_type": "code",
   "execution_count": 46,
   "metadata": {},
   "outputs": [
    {
     "name": "stdout",
     "output_type": "stream",
     "text": [
      "(1030, 9) (971, 9)\n"
     ]
    }
   ],
   "source": [
    "print(dst.shape,dstnew.shape)"
   ]
  },
  {
   "cell_type": "code",
   "execution_count": 47,
   "metadata": {},
   "outputs": [
    {
     "data": {
      "text/plain": [
       "(971, 9)"
      ]
     },
     "execution_count": 47,
     "metadata": {},
     "output_type": "execute_result"
    }
   ],
   "source": [
    "dst=dstnew\n",
    "dst.shape"
   ]
  },
  {
   "cell_type": "code",
   "execution_count": 48,
   "metadata": {},
   "outputs": [
    {
     "data": {
      "text/html": [
       "<div>\n",
       "<style scoped>\n",
       "    .dataframe tbody tr th:only-of-type {\n",
       "        vertical-align: middle;\n",
       "    }\n",
       "\n",
       "    .dataframe tbody tr th {\n",
       "        vertical-align: top;\n",
       "    }\n",
       "\n",
       "    .dataframe thead th {\n",
       "        text-align: right;\n",
       "    }\n",
       "</style>\n",
       "<table border=\"1\" class=\"dataframe\">\n",
       "  <thead>\n",
       "    <tr style=\"text-align: right;\">\n",
       "      <th></th>\n",
       "      <th>0</th>\n",
       "      <th>1</th>\n",
       "      <th>2</th>\n",
       "      <th>3</th>\n",
       "      <th>4</th>\n",
       "      <th>5</th>\n",
       "      <th>6</th>\n",
       "      <th>7</th>\n",
       "    </tr>\n",
       "  </thead>\n",
       "  <tbody>\n",
       "    <tr>\n",
       "      <th>0</th>\n",
       "      <td>540.0</td>\n",
       "      <td>136.158676</td>\n",
       "      <td>120.288793</td>\n",
       "      <td>162.0</td>\n",
       "      <td>2.500000</td>\n",
       "      <td>1040.0</td>\n",
       "      <td>676.0</td>\n",
       "      <td>3.332205</td>\n",
       "    </tr>\n",
       "    <tr>\n",
       "      <th>1</th>\n",
       "      <td>540.0</td>\n",
       "      <td>136.158676</td>\n",
       "      <td>120.288793</td>\n",
       "      <td>162.0</td>\n",
       "      <td>2.500000</td>\n",
       "      <td>1055.0</td>\n",
       "      <td>676.0</td>\n",
       "      <td>3.332205</td>\n",
       "    </tr>\n",
       "    <tr>\n",
       "      <th>2</th>\n",
       "      <td>332.5</td>\n",
       "      <td>142.500000</td>\n",
       "      <td>120.288793</td>\n",
       "      <td>228.0</td>\n",
       "      <td>9.816897</td>\n",
       "      <td>932.0</td>\n",
       "      <td>594.0</td>\n",
       "      <td>5.598422</td>\n",
       "    </tr>\n",
       "    <tr>\n",
       "      <th>3</th>\n",
       "      <td>332.5</td>\n",
       "      <td>142.500000</td>\n",
       "      <td>120.288793</td>\n",
       "      <td>228.0</td>\n",
       "      <td>9.816897</td>\n",
       "      <td>932.0</td>\n",
       "      <td>594.0</td>\n",
       "      <td>5.899897</td>\n",
       "    </tr>\n",
       "    <tr>\n",
       "      <th>4</th>\n",
       "      <td>198.6</td>\n",
       "      <td>132.400000</td>\n",
       "      <td>120.288793</td>\n",
       "      <td>192.0</td>\n",
       "      <td>9.816897</td>\n",
       "      <td>978.4</td>\n",
       "      <td>825.5</td>\n",
       "      <td>5.886104</td>\n",
       "    </tr>\n",
       "    <tr>\n",
       "      <th>...</th>\n",
       "      <td>...</td>\n",
       "      <td>...</td>\n",
       "      <td>...</td>\n",
       "      <td>...</td>\n",
       "      <td>...</td>\n",
       "      <td>...</td>\n",
       "      <td>...</td>\n",
       "      <td>...</td>\n",
       "    </tr>\n",
       "    <tr>\n",
       "      <th>1025</th>\n",
       "      <td>276.4</td>\n",
       "      <td>116.000000</td>\n",
       "      <td>90.300000</td>\n",
       "      <td>179.6</td>\n",
       "      <td>8.900000</td>\n",
       "      <td>870.1</td>\n",
       "      <td>768.3</td>\n",
       "      <td>3.332205</td>\n",
       "    </tr>\n",
       "    <tr>\n",
       "      <th>1026</th>\n",
       "      <td>322.2</td>\n",
       "      <td>136.158676</td>\n",
       "      <td>115.600000</td>\n",
       "      <td>196.0</td>\n",
       "      <td>10.400000</td>\n",
       "      <td>817.9</td>\n",
       "      <td>813.4</td>\n",
       "      <td>3.332205</td>\n",
       "    </tr>\n",
       "    <tr>\n",
       "      <th>1027</th>\n",
       "      <td>148.5</td>\n",
       "      <td>139.400000</td>\n",
       "      <td>108.600000</td>\n",
       "      <td>192.7</td>\n",
       "      <td>6.100000</td>\n",
       "      <td>892.4</td>\n",
       "      <td>780.0</td>\n",
       "      <td>3.332205</td>\n",
       "    </tr>\n",
       "    <tr>\n",
       "      <th>1028</th>\n",
       "      <td>159.1</td>\n",
       "      <td>186.700000</td>\n",
       "      <td>120.288793</td>\n",
       "      <td>175.6</td>\n",
       "      <td>11.300000</td>\n",
       "      <td>989.6</td>\n",
       "      <td>788.9</td>\n",
       "      <td>3.332205</td>\n",
       "    </tr>\n",
       "    <tr>\n",
       "      <th>1029</th>\n",
       "      <td>260.9</td>\n",
       "      <td>100.500000</td>\n",
       "      <td>78.300000</td>\n",
       "      <td>200.6</td>\n",
       "      <td>8.600000</td>\n",
       "      <td>864.5</td>\n",
       "      <td>761.5</td>\n",
       "      <td>3.332205</td>\n",
       "    </tr>\n",
       "  </tbody>\n",
       "</table>\n",
       "<p>971 rows × 8 columns</p>\n",
       "</div>"
      ],
      "text/plain": [
       "          0           1           2      3          4       5      6         7\n",
       "0     540.0  136.158676  120.288793  162.0   2.500000  1040.0  676.0  3.332205\n",
       "1     540.0  136.158676  120.288793  162.0   2.500000  1055.0  676.0  3.332205\n",
       "2     332.5  142.500000  120.288793  228.0   9.816897   932.0  594.0  5.598422\n",
       "3     332.5  142.500000  120.288793  228.0   9.816897   932.0  594.0  5.899897\n",
       "4     198.6  132.400000  120.288793  192.0   9.816897   978.4  825.5  5.886104\n",
       "...     ...         ...         ...    ...        ...     ...    ...       ...\n",
       "1025  276.4  116.000000   90.300000  179.6   8.900000   870.1  768.3  3.332205\n",
       "1026  322.2  136.158676  115.600000  196.0  10.400000   817.9  813.4  3.332205\n",
       "1027  148.5  139.400000  108.600000  192.7   6.100000   892.4  780.0  3.332205\n",
       "1028  159.1  186.700000  120.288793  175.6  11.300000   989.6  788.9  3.332205\n",
       "1029  260.9  100.500000   78.300000  200.6   8.600000   864.5  761.5  3.332205\n",
       "\n",
       "[971 rows x 8 columns]"
      ]
     },
     "execution_count": 48,
     "metadata": {},
     "output_type": "execute_result"
    }
   ],
   "source": [
    "x=dst.iloc[:,0:8]\n",
    "x"
   ]
  },
  {
   "cell_type": "code",
   "execution_count": 50,
   "metadata": {},
   "outputs": [
    {
     "data": {
      "text/plain": [
       "0    79.99\n",
       "1    61.89\n",
       "2    40.27\n",
       "3    41.05\n",
       "4    44.30\n",
       "Name: 8, dtype: float64"
      ]
     },
     "execution_count": 50,
     "metadata": {},
     "output_type": "execute_result"
    }
   ],
   "source": [
    "y=dst.iloc[:,-1]\n",
    "y.head()"
   ]
  },
  {
   "cell_type": "code",
   "execution_count": 51,
   "metadata": {},
   "outputs": [
    {
     "data": {
      "text/plain": [
       "(971, 8)"
      ]
     },
     "execution_count": 51,
     "metadata": {},
     "output_type": "execute_result"
    }
   ],
   "source": [
    "x.shape"
   ]
  },
  {
   "cell_type": "code",
   "execution_count": 52,
   "metadata": {},
   "outputs": [
    {
     "data": {
      "text/plain": [
       "(971,)"
      ]
     },
     "execution_count": 52,
     "metadata": {},
     "output_type": "execute_result"
    }
   ],
   "source": [
    "y.shape"
   ]
  },
  {
   "cell_type": "code",
   "execution_count": 53,
   "metadata": {},
   "outputs": [],
   "source": [
    "x_train,x_test,y_train,y_test=train_test_split(x,y,test_size=.22,random_state=42)"
   ]
  },
  {
   "cell_type": "code",
   "execution_count": 54,
   "metadata": {},
   "outputs": [
    {
     "data": {
      "text/plain": [
       "(757, 8)"
      ]
     },
     "execution_count": 54,
     "metadata": {},
     "output_type": "execute_result"
    }
   ],
   "source": [
    "x_train.shape"
   ]
  },
  {
   "cell_type": "code",
   "execution_count": 55,
   "metadata": {},
   "outputs": [
    {
     "data": {
      "text/plain": [
       "(757,)"
      ]
     },
     "execution_count": 55,
     "metadata": {},
     "output_type": "execute_result"
    }
   ],
   "source": [
    "y_train.shape"
   ]
  },
  {
   "cell_type": "code",
   "execution_count": 56,
   "metadata": {},
   "outputs": [
    {
     "data": {
      "text/plain": [
       "(214, 8)"
      ]
     },
     "execution_count": 56,
     "metadata": {},
     "output_type": "execute_result"
    }
   ],
   "source": [
    "x_test.shape"
   ]
  },
  {
   "cell_type": "code",
   "execution_count": 57,
   "metadata": {},
   "outputs": [
    {
     "data": {
      "text/plain": [
       "(214,)"
      ]
     },
     "execution_count": 57,
     "metadata": {},
     "output_type": "execute_result"
    }
   ],
   "source": [
    "y_test.shape"
   ]
  },
  {
   "cell_type": "code",
   "execution_count": 58,
   "metadata": {},
   "outputs": [],
   "source": [
    "lm=LinearRegression()"
   ]
  },
  {
   "cell_type": "code",
   "execution_count": 59,
   "metadata": {},
   "outputs": [
    {
     "data": {
      "text/plain": [
       "LinearRegression()"
      ]
     },
     "execution_count": 59,
     "metadata": {},
     "output_type": "execute_result"
    }
   ],
   "source": [
    "lm.fit(x_train,y_train)"
   ]
  },
  {
   "cell_type": "code",
   "execution_count": 60,
   "metadata": {},
   "outputs": [
    {
     "data": {
      "text/plain": [
       "0.7846368358031746"
      ]
     },
     "execution_count": 60,
     "metadata": {},
     "output_type": "execute_result"
    }
   ],
   "source": [
    "lm.score(x_train,y_train)"
   ]
  },
  {
   "cell_type": "code",
   "execution_count": 61,
   "metadata": {},
   "outputs": [
    {
     "data": {
      "text/plain": [
       "array([ 0.06189984,  0.04267481, -0.03869602, -0.47574267, -0.41543375,\n",
       "       -0.06897338, -0.066946  ,  8.20700798])"
      ]
     },
     "execution_count": 61,
     "metadata": {},
     "output_type": "execute_result"
    }
   ],
   "source": [
    "lm.coef_"
   ]
  },
  {
   "cell_type": "code",
   "execution_count": 62,
   "metadata": {},
   "outputs": [
    {
     "data": {
      "text/plain": [
       "200.55969350812362"
      ]
     },
     "execution_count": 62,
     "metadata": {},
     "output_type": "execute_result"
    }
   ],
   "source": [
    "lm.intercept_"
   ]
  },
  {
   "cell_type": "code",
   "execution_count": 63,
   "metadata": {},
   "outputs": [
    {
     "name": "stdout",
     "output_type": "stream",
     "text": [
      "[37.29473353 36.22391047 32.22867838 36.49194065 30.9918634  13.95118985\n",
      " 39.67563896 30.34302137 42.82305482 40.62578235 35.85479772 30.9561269\n",
      " 64.41014548 47.02266917 41.45885184 20.97912158 51.78552263 12.78772609\n",
      " 28.18313907 37.66275499 44.67769585 45.82962682 35.64534029 34.27479555\n",
      " 62.00331391 44.70173336 34.44624296 31.47531906 33.3185735  52.11631314\n",
      " 23.81579751 10.25502192 41.33400473 60.64465855 28.17016002 30.7634755\n",
      " 60.32348678  8.27123995 47.73197985 31.76351107 11.58958325 29.20523007\n",
      " 21.94124461 54.63482234 43.04266235 40.38772662 46.76340437 31.48755125\n",
      " 45.8831771  31.66997626 45.07373041 36.78049997 40.59321044 42.23031442\n",
      " 34.47666851 34.19104428 32.89299334 59.21057517  8.33667683 41.18338429\n",
      " 45.3798212  50.20940174 27.07553203 40.1349074  25.22774131 23.0924447\n",
      " 41.52851054 52.60088736 40.18336421 39.47130028 40.03586827 36.53146017\n",
      " 46.60058818 31.04323748 52.8118656  10.54844419 49.34889361 38.12372329\n",
      " 29.89143279 11.47429966 24.0292339   5.89261082 37.94564371 33.94974579\n",
      " 10.2768134  44.54055886 35.9658127  25.17579717 48.10589633 36.29542615\n",
      " 28.15646372 20.45075283 39.0099797  31.59891584 38.97227356 22.0146832\n",
      " 35.41009051 29.05201069 28.24995429 42.36462614 50.03142643 32.59916619\n",
      " 36.36892357 37.72391554 33.09733327 44.7274968  17.64545618 37.40227833\n",
      " 41.0270895  32.19577735 26.66778602 34.3149793  24.75695722 36.46447683\n",
      " 50.52688653 39.03337056 45.45082673 50.5133198  17.26993971 46.38361992\n",
      " 33.48599349 41.31170107 20.64459607 36.64600133 54.57921006 16.41768849\n",
      " 45.27460084 45.69230819 42.22752239 57.22951238 57.42435059 14.13859683\n",
      " 13.57600726 45.5341175  11.43080799  2.49607953 26.32708697 29.3755122\n",
      " 24.0861227  56.05502473 46.38463754 48.30140599 43.11136134  9.712181\n",
      " 42.25281547 35.53833198 29.07155268 31.55414796 23.01662132 24.7045077\n",
      " 51.18262118 60.42557896 34.37263385 31.01066557 47.21717498 21.332934\n",
      " 12.71212829 42.83436664 51.73568615 12.07865359 35.21218155 35.96857948\n",
      " 35.99807525 25.0194122  47.17973487 24.155086   40.19350822 25.32200113\n",
      " 21.15882963 41.05035929 19.93357215 42.95807377 58.64840815 17.60628889\n",
      " 27.81396941 44.6727202  41.48966132 27.19297119 42.38870492 38.24749835\n",
      " 63.4582407  45.61274184 22.85443383 46.09685819 37.87320255 12.6262277\n",
      " 65.14454865 38.38535427 36.08183658 18.9536312  37.59309375 18.32809834\n",
      " 21.81905873 60.46755089 43.97118199 45.57214145 32.36044174 21.14019109\n",
      " 48.07855532 26.83065215 28.96528649 41.15570766 53.60362133 22.01872521\n",
      " 37.72391554 22.78193453 27.70738965 36.30371315  8.00215132 37.28474039\n",
      " 38.89840319  8.36708778 54.78324913 19.69310061] 188    40.71\n",
      "885    26.23\n",
      "78     28.10\n",
      "70     34.40\n",
      "92     24.10\n",
      "       ...  \n",
      "351    45.94\n",
      "475    35.36\n",
      "406    14.40\n",
      "529    68.75\n",
      "664    19.35\n",
      "Name: 8, Length: 214, dtype: float64\n"
     ]
    }
   ],
   "source": [
    "pred=lm.predict(x_test)\n",
    "print(pred,y_test)"
   ]
  },
  {
   "cell_type": "code",
   "execution_count": 64,
   "metadata": {},
   "outputs": [],
   "source": [
    "from sklearn.metrics import mean_squared_error,r2_score"
   ]
  },
  {
   "cell_type": "code",
   "execution_count": 65,
   "metadata": {},
   "outputs": [
    {
     "name": "stdout",
     "output_type": "stream",
     "text": [
      "58.358454273352685\n"
     ]
    }
   ],
   "source": [
    "print(mean_squared_error(y_test,pred))"
   ]
  },
  {
   "cell_type": "code",
   "execution_count": 66,
   "metadata": {},
   "outputs": [
    {
     "data": {
      "text/plain": [
       "0.766212733306975"
      ]
     },
     "execution_count": 66,
     "metadata": {},
     "output_type": "execute_result"
    }
   ],
   "source": [
    "r2_score(y_test,pred)"
   ]
  },
  {
   "cell_type": "code",
   "execution_count": 36,
   "metadata": {},
   "outputs": [],
   "source": [
    "def predicttest(testvalue):\n",
    "    testvalue=testvalue.reshape(1,-1)\n",
    "    t=lm.predict(testvalue)\n",
    "    print(t)"
   ]
  },
  {
   "cell_type": "code",
   "execution_count": 68,
   "metadata": {},
   "outputs": [],
   "source": [
    "testv=np.array([540.0,136.158,120.288,162.00,2.500,1040.00,676.00,28.00])"
   ]
  },
  {
   "cell_type": "code",
   "execution_count": 69,
   "metadata": {},
   "outputs": [
    {
     "name": "stdout",
     "output_type": "stream",
     "text": [
      "[269.84097805]\n"
     ]
    }
   ],
   "source": [
    "predicttest(testv)"
   ]
  },
  {
   "cell_type": "code",
   "execution_count": 70,
   "metadata": {},
   "outputs": [],
   "source": [
    "import joblib"
   ]
  },
  {
   "cell_type": "code",
   "execution_count": 71,
   "metadata": {},
   "outputs": [
    {
     "data": {
      "text/plain": [
       "['lmconcrete.obj']"
      ]
     },
     "execution_count": 71,
     "metadata": {},
     "output_type": "execute_result"
    }
   ],
   "source": [
    "joblib.dump(lm,'lmconcrete.obj')"
   ]
  },
  {
   "cell_type": "code",
   "execution_count": 72,
   "metadata": {},
   "outputs": [
    {
     "data": {
      "text/plain": [
       "array([51.91743818, 43.25749345, 26.53910214, 26.45206349, 18.11828268,\n",
       "       58.65162082, 26.61664028, 32.4806512 ,  7.79770476, 33.32131526,\n",
       "       44.14773669, -1.06116948, 51.10221663, 42.95185555, 50.69558859,\n",
       "       29.87327217, 31.08670653, 29.51611701, 22.59624659, 18.51410391,\n",
       "       38.55679342, 32.66405643, 49.4991702 , 34.62863451, 32.61008731,\n",
       "       22.36920157, 61.93729971, 39.63841024, 39.26675518, 60.75200597,\n",
       "       16.79283114, 16.77913483, 54.73691452, 12.68050319, 61.12200622,\n",
       "       34.18796967, 30.49135732, 11.65021355, 50.08297726, 23.18414604,\n",
       "       10.13947069, 31.44572594, 30.73614483,  6.18924211, 36.10739345,\n",
       "       28.64955318,  6.74095379, 45.21252809, 14.485941  , 26.24609687,\n",
       "       26.33326051, 60.1094314 , 49.00403288, 76.07305176, 39.27111506,\n",
       "       45.8458379 , 19.3316458 , 58.51635157, 19.78957275, 33.62902225,\n",
       "       23.85335688, 28.83094916, 24.03351695, 40.49961139, 34.23176271,\n",
       "       64.62922507, 40.28138146, 40.17375873, 62.91817682, 22.89746666,\n",
       "       23.45598248,  9.99241979, 33.78263583, 27.50772318, 36.08666683,\n",
       "       24.28881523, 12.77775711, 21.77184107, 23.80694712, 27.46482314,\n",
       "       42.91694548, 44.02969007, 44.24545786, 57.47418707, 32.02192496,\n",
       "       36.62488492, 65.72825569, 12.47407256, 33.19638762, 64.20501602,\n",
       "       47.34590837, 45.15996472, 56.24845201, 16.80581019, 20.26935686,\n",
       "       44.16050856, 67.39218176,  9.9188451 , 28.90405258, 48.10999445,\n",
       "       29.12228251, 45.85218349, 68.01396481, 31.78823543, 54.73691452,\n",
       "       27.55249902, 35.74551381, 37.21601894, 42.22629244, 25.59223107,\n",
       "       31.30565409, 21.67253456, 33.29416618, 54.74071347, 37.13439038,\n",
       "       62.46841233, 36.72856745, 39.82275166, 39.76216228, 60.42557896,\n",
       "       24.45221177, 60.01784888,  8.51638488, 35.14495193, 20.17681908,\n",
       "       37.11901676, 41.51525523, 11.63929243,  7.76846179, 29.01479918,\n",
       "       60.42557896, 36.54681044, 55.30483837,  9.44985983, 33.39201208,\n",
       "       37.646994  , 34.9110636 , 31.44454463, 45.1879146 , 55.01163704,\n",
       "       27.45366263, 16.40956595, 24.70717563, 38.89840319, 27.16284755,\n",
       "       61.74368917, 40.81057169, 53.91404342, 23.19088894, 56.21802759,\n",
       "       14.43351906, 54.82304984, 13.41276009, 62.94176186, 43.76855472,\n",
       "       28.04329019, 31.41790066, 51.97338117, 43.16053227, 43.20059371,\n",
       "       11.7307332 ,  6.76622788, 32.92958999, 45.19603714, 36.70821289,\n",
       "       30.15118165, 35.97843445,  6.99740955,  9.37628046, 39.19129829,\n",
       "       34.14611999, 40.41413381, 52.61034065, 43.81430758, 22.63281341,\n",
       "       28.47057988, 43.08931216, 53.34506665, 36.40580533, 41.49697102,\n",
       "       51.0978001 , 45.57657173, 35.46704321, 71.54651146, 45.01929521,\n",
       "       37.14543643, 50.45088321, 53.74381662, 36.99431854, 58.11510773,\n",
       "       36.92407711, 37.36957281, 40.84307953, 17.3318329 , 37.04736801,\n",
       "       35.58293423, 19.64989036, 46.92364771, 31.82808171, 29.92069244,\n",
       "       67.5326714 , 33.1709805 , 37.03250029, 54.78324913, 29.138447  ,\n",
       "       58.99620355, 41.40457635, 29.73571483, 61.06914692, 33.74759985,\n",
       "       12.11451247, 38.40195725, 38.4486387 , 56.05502473, 11.71511582,\n",
       "       28.70916179, 25.32294793, 43.35958564, 50.55978757, 35.06417664,\n",
       "       67.05673194, 32.38686141, 44.60077431, 36.98712217, 43.44572095,\n",
       "       34.74879768, 44.85100141, 31.02635736, 24.9992879 ,  8.89202797,\n",
       "        3.63847751, 26.902296  , 44.67769585, 23.02754244, 26.69819696,\n",
       "        9.13371395, 46.17151482, 52.56527072, 20.22568423, 32.53615852,\n",
       "       47.83913277, 24.94359799, 24.16505498, 30.3788572 , 43.06117375,\n",
       "       39.89488838, 40.3679319 , 45.85218349, 36.70027682, 20.52978756,\n",
       "       25.68764615, 20.82718871, 35.60935688, 22.35462574,  6.12110259,\n",
       "       37.55647782, 34.36729085, 21.00953252, 35.45058162, 43.06085482,\n",
       "       29.06013324, 25.99224392, 40.48285038, 54.39164915, 31.55213156,\n",
       "       29.76191718, 34.61461544, 14.53732968, 21.60745689, 26.50037407,\n",
       "       30.24873363, 36.08450451, 12.9745449 , 18.80328119, 44.24983167,\n",
       "       21.4310531 , 36.7746486 , 41.8686862 , 12.37696745,  0.84392446,\n",
       "       43.72756427, 30.39584007, 60.90235454, 33.3370035 , 50.33724962,\n",
       "       27.19210373, 20.22158695, 39.65246953, 45.8539974 , 50.27580691,\n",
       "       40.63587132, 37.0495886 , 18.14355676, 50.08215626, 62.91817682,\n",
       "       40.42933958, 45.402419  , 17.2722243 , 22.72029809, 21.43700358,\n",
       "       40.65297436, 22.82459847, 26.22266528, 38.49052965, 65.72825569,\n",
       "       37.72391554, 19.63333668, 62.91817682, 39.32679284, 39.88790729,\n",
       "       34.74067514, 49.09458469, 54.9559941 , 47.59851916, 28.60792259,\n",
       "       21.36974868, 41.12303425, 49.32297259, 54.32918444, 59.4558842 ,\n",
       "        4.68551213,  4.69643325,  7.88244381, 29.60591958, 69.33771765,\n",
       "       38.15462911, 10.68019209, 71.58805484, 25.04748039, 35.70214001,\n",
       "       46.53940947, 36.69933001, 37.11502548, 45.85218349, 40.4923554 ,\n",
       "       23.00289554, 25.91025139, 30.23715398, 65.65133415, 56.45483248,\n",
       "       54.54685909, 48.58978281, 55.1129462 , 30.64023815, 60.42557896,\n",
       "       59.60270786, 32.7132928 , 11.37431804, 31.59607595, 57.13989552,\n",
       "       39.85824636, 44.29399437, 34.59348513, 28.5861311 , 22.85162854,\n",
       "       22.81371539, 51.45123107, 24.23202799, 25.26867245, 35.85622913,\n",
       "       34.50345969, 33.74653046, 35.95021402, 64.0024154 , 46.8443721 ,\n",
       "       10.38396209, 21.50343929, 36.93125997, 45.43228474, 60.51171428,\n",
       "       42.97340484, 24.07325273, 46.28187488, 40.1812372 , 20.98311286,\n",
       "       56.05502473, 40.20827804, 25.61698965, 42.41723189, 25.91465856,\n",
       "       19.52062408, 29.86818521, 30.40973358, 46.71575394, 20.04057178,\n",
       "       46.35160734, 23.76762305, 45.2845667 , 64.3080533 , 42.61992442,\n",
       "       26.09957098, 28.75757852, 22.24071996, 20.11486617, 38.26328403,\n",
       "       38.99974218,  6.45897979, 31.07042949, -0.21282651, 50.0856497 ,\n",
       "       40.20012649,  5.05474795, 27.89378617, 52.8306274 , 51.97124979,\n",
       "       57.22951238, 33.07434541, 54.92381935, 14.76622408, 42.90111836,\n",
       "       36.12257571, 11.11653973, 42.53671453, 47.61686645, 45.47688695,\n",
       "       42.15314128, 12.40503564, 29.61746404, 39.32722062, 60.68476149,\n",
       "       31.80228537, 45.7850339 , 46.31444679, 38.03042681, 64.41014548,\n",
       "       42.8750294 , 60.23301853, -0.18755243, 39.40837707, 18.64141858,\n",
       "       55.97810319, 33.58245061, 28.5578725 , 41.58241482, 33.73195463,\n",
       "       41.62606252, 45.66516666, 17.566571  , 24.05759573, 54.43850264,\n",
       "       33.21120257, 65.72825569, 31.01161237, 26.24515156, 53.8930458 ,\n",
       "       25.32851873, 29.01139176, 20.06721575, 22.89810633, 37.61223952,\n",
       "       31.49219506, 28.84862568, 31.90711645, 41.1553161 , 52.86447135,\n",
       "       52.40441838,  8.86099454, 21.6040922 , 37.83249916, 33.04322096,\n",
       "       32.35645046, 26.0146217 , 48.05329058, 36.13428611, 66.45297885,\n",
       "       29.02278506, 34.03475664, 26.44631471, 38.55249546, 42.37424909,\n",
       "       49.09458469, 63.27685229, 64.4962808 , 23.43997857, 42.78126428,\n",
       "       41.30089115, 12.7393203 , 52.87051085, 45.49395674, 34.07349784,\n",
       "       28.87955338, 54.73691452, 29.34079471,  0.92866351, 62.14349692,\n",
       "       40.00320378, 36.42480927, -1.89903235, 21.30730105, 47.58162984,\n",
       "       29.44764891, 52.9597437 , 41.75289355, 32.29101358, 57.76957625,\n",
       "       30.95733689, 38.35278633, 39.14307788, 37.98801487, 44.34276199,\n",
       "       30.86625167, 61.74368917, 16.43207684, 32.66412188, 38.9298279 ,\n",
       "       33.73453117, 27.34537757, 12.06473088, 49.51774625, 24.71989522,\n",
       "       38.62956409, 54.67689962, 33.62476117, 39.93520138, 45.25477362,\n",
       "       35.49720343, 27.02462836, 45.34374614, 24.79008898, 33.39605409,\n",
       "       37.54923072, 38.89840319, 38.19046746, 56.77974788, 21.22712502,\n",
       "       38.78599771, 30.68734152, 27.72610163,  8.55624326, 14.38218362,\n",
       "       37.70535835, 40.11504268, 43.54457273, 11.60291092, 16.08749425,\n",
       "       43.35141944,  5.83394579, 38.15837047, 37.57187578, 72.74539638,\n",
       "       43.02151827, 40.20915664, 38.65409754, 41.11304372, 28.84231757,\n",
       "       45.32707468, 14.33301269, 26.78104158, 15.25134143, 36.37012752,\n",
       "       33.67673369, 32.39511916, 52.58867903, 15.28693965, 19.2597727 ,\n",
       "       47.52701899, 34.44762537, 38.36939585, 30.80518175, 27.27714635,\n",
       "       -3.88442016, 26.03558351, 14.86527843, 34.75591845, 37.24079601,\n",
       "       36.40580533, 38.50571463, 14.55027994, 62.63297466, 27.17516657,\n",
       "       50.09105975, 29.6730304 , 20.41090654,  3.06936014, 33.79045018,\n",
       "       46.63005104, 30.79106318, 33.89513605, 30.01874747, 39.18245868,\n",
       "        2.95443912, 27.12838575, 17.69422379, 48.15197748,  9.84979613,\n",
       "       53.99007044, 21.75785269, 34.2269272 , 48.20438136, 23.51656563,\n",
       "       37.98522017, 32.46970602, 38.60532993, 31.67017263, 36.55312606,\n",
       "       43.98741619, 49.98265882, 13.07488289, 36.42896893, 29.70542722,\n",
       "       19.9417998 , 10.3805238 , 13.11343544, 38.05312475, 43.57866522,\n",
       "       34.32822128, 38.45408523, 42.46331304, 35.93739808, 39.72488774,\n",
       "       49.50297202, 38.29875175, 40.67586916, 20.9136847 , 61.74368917,\n",
       "       39.63041839, 23.3448876 , 27.40866882, 30.7634755 , 48.93380671,\n",
       "       11.04440301, 51.60294712, 34.89389451, 39.28797209, 23.68684775,\n",
       "       25.81084795, 22.16850221, 60.12716708, 10.5825349 , 54.86463099,\n",
       "       30.13792635, 59.29228577, 36.46664937, 23.23728655, 41.04549832,\n",
       "       38.16931564, 47.53188707, 23.6286577 , 64.41014548, 33.94175395,\n",
       "       37.71725581, 10.87412088, 34.56821782, 23.45598248, 30.86446161,\n",
       "       36.19978561, 41.07473993, 40.43746212, 40.49895063, 31.24259553,\n",
       "       10.74044349, 36.6759617 , 23.82203209, 30.70807664, 27.07675635,\n",
       "       47.50678577, 35.80240598, 40.75526361, 41.00268448, 42.91525835,\n",
       "       21.5567981 , 26.60234914, 66.12806344, 37.82939237, 25.92760882,\n",
       "       30.44562166, 30.77581239, 41.12477501, 40.91345979, 43.24514226,\n",
       "       45.07750359, 21.28554831, 26.97545744, 66.3575811 , 23.1484751 ,\n",
       "       45.16114813, 48.46759693, 36.40580533, 42.51571692, 42.51007924,\n",
       "       21.91515565, 17.2305937 , 40.89286112, 29.97029681, 51.32918174,\n",
       "       44.67769585,  7.57914221, 30.58725223, 15.59688386, 73.84709198,\n",
       "       27.60382009, 32.81705019, 31.01954845, 31.97409055, 23.10806209,\n",
       "       23.75898447, 50.33514675, 26.84749407, 39.88434929, 39.86922774,\n",
       "       19.42785286, 40.50320921, 23.19740135, 41.6149818 , 32.77110744,\n",
       "       24.88284465, 43.26428965, 30.86809317, 33.82102405, 54.26946328,\n",
       "       16.8726254 ,  8.34066811, 66.05422851, 26.40335149, 60.55329544,\n",
       "       17.09325099, 33.61804884, 38.89986702, 43.48730211, 42.77893249,\n",
       "       44.30843149, 19.53907687, 36.39674108, 19.17503365, 49.91853974,\n",
       "       53.03457281, 64.41014548, 40.00364375, 26.6717773 , 27.63265082,\n",
       "       41.85402145, 35.13631336, 37.71725581, 36.35749086, 30.60269752,\n",
       "       51.78124419, 26.85248458, 61.66676764,  1.60246296, 23.62259639,\n",
       "       43.35958564, 14.99020607, 36.40580533, 52.86839931, 32.86812897,\n",
       "       12.53335242, 34.11662785, 54.73691452, 14.44668903, 50.41616124,\n",
       "       40.83410801, 35.27251214, 43.35958564, 34.19924284, 34.21231441,\n",
       "       57.22951238, 43.35958564])"
      ]
     },
     "execution_count": 72,
     "metadata": {},
     "output_type": "execute_result"
    }
   ],
   "source": [
    "lmfile=joblib.load('lmconcrete.obj')\n",
    "lmfile.predict(x_train)"
   ]
  },
  {
   "cell_type": "code",
   "execution_count": null,
   "metadata": {},
   "outputs": [],
   "source": []
  }
 ],
 "metadata": {
  "kernelspec": {
   "display_name": "Python 3",
   "language": "python",
   "name": "python3"
  },
  "language_info": {
   "codemirror_mode": {
    "name": "ipython",
    "version": 3
   },
   "file_extension": ".py",
   "mimetype": "text/x-python",
   "name": "python",
   "nbconvert_exporter": "python",
   "pygments_lexer": "ipython3",
   "version": "3.8.5"
  }
 },
 "nbformat": 4,
 "nbformat_minor": 4
}
